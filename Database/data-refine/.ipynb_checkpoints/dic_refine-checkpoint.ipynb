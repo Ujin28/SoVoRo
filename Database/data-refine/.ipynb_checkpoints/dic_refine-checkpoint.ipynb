{
 "cells": [
  {
   "cell_type": "code",
   "execution_count": 12,
   "id": "2989913b",
   "metadata": {},
   "outputs": [],
   "source": [
    "import pandas as pd\n",
    "import numpy as np\n",
    "import csv\n",
    "import pprint"
   ]
  },
  {
   "cell_type": "code",
   "execution_count": 13,
   "id": "d843a99e",
   "metadata": {},
   "outputs": [],
   "source": [
    "data=pd.read_csv('dic-refine.csv')\n",
    "data.drop(['Unnamed: 0'], axis = 1, inplace = True)"
   ]
  },
  {
   "cell_type": "code",
   "execution_count": 14,
   "id": "c12e9c1f",
   "metadata": {},
   "outputs": [
    {
     "name": "stdout",
     "output_type": "stream",
     "text": [
      "      WordId EnglishWord                                         KoreanWord\n",
      "0          1           a  ) <FONT COLOR=#FF0000><BR>1</FONT> 에이 (영어 자모의 ...\n",
      "1          2        able  :blest</FONT>)<FONT COLOR=#FF0000><BR>1 </FONT...\n",
      "2          3       about  : <I>prep.- ad.- a.- vt</I>.<BR>기본적으로는 위치- 즉 「...\n",
      "3          4       above  : <I>prep.-</I> <I>ad.- a.- n</I>.<BR>「위쪽에[으로]...\n",
      "4          5      absent  : [L 「어떤 일에서 떨어져 서」의 뜻에서] <I>a.</I><FONT COLOR...\n",
      "...      ...         ...                                                ...\n",
      "2044    2045        your  : <I>pron.</I> <FONT COLOR=#FF0000><BR>1 </FON...\n",
      "2045    2046       yours  : <I>pron.</I><FONT COLOR=#FF0000><BR>1 </FONT...\n",
      "2046    2047    yourself  :)<FONT COLOR=#FF0000><BR>1 </FONT>[강조 용법] <FO...\n",
      "2047    2048  yourselves                        : <I>pron.</I> YOURSELF의 복수\n",
      "2048    2049       youth  :) [U] <FONT COLOR=#FF0000><BR>1  a</FONT> <FO...\n",
      "\n",
      "[2049 rows x 3 columns]\n"
     ]
    }
   ],
   "source": [
    "pprint.pprint(data)"
   ]
  },
  {
   "cell_type": "code",
   "execution_count": 24,
   "id": "f933754b",
   "metadata": {},
   "outputs": [
    {
     "name": "stdout",
     "output_type": "stream",
     "text": [
      "(') <FONT COLOR=#FF0000><BR>1</FONT> 에이 (영어 자모의 첫 자) <FONT '\n",
      " 'COLOR=#FF0000><BR>2</FONT> A자형(의 것) <FONT COLOR=#FF0000><BR>3</FONT> (가정의) '\n",
      " '제1- 갑(甲);[樂] 가 음- 가 조(調);[數] 제1기지수;(미) 수(秀) (학업 성적에서)<BR><FONT '\n",
      " \"COLOR=#FF0000> ·</FONT>straight <I>A</I>'<I>s</I> 전 수 <FONT \"\n",
      " 'COLOR=#FF0000><BR>4</FONT> (연속된 것의) 첫번째의 것 <BR><FONT COLOR=#FF0000> ☆ '\n",
      " '</FONT><FONT COLOR=#0000FF>A 1</FONT>제1급 (로이드 선급(船級) 협회의 선박 검사 등급);(口) 최고의- '\n",
      " '제1류의(=A one) <BR><FONT COLOR=#FF0000> ☆ </FONT><FONT COLOR=#0000FF>from A to '\n",
      " 'Z</FONT> 처음부터 끝까지 <BR><FONT COLOR=#FF0000> ☆ </FONT><FONT COLOR=#0000FF>not '\n",
      " 'know A from B</FONT> A와 B의 구별도 모르다- 낫 놓고 기역자도 모르다- 일자 무식이다 <BR><BR><BR>: '\n",
      " '<I>indef. art</I>. (부정관사)<BR>(1) 는 특히 강조할 경우나 숨을 쉰 다음 발음할 때에만 쓴다.<BR>(2) 자음 '\n",
      " '앞에서는 a- 모음 앞에서는 an을 쓰며- 철자에 의존하지는 않는다(→  an¹)<BR><FONT COLOR=#FF0000> '\n",
      " '·</FONT><I>a</I> cow- <I>an</I> ox;<I>a</I> horse-<I> an</I> hour  '\n",
      " 'play;<I>a</I> u- <I>an</I> s<BR>(3) 단수형의 가산명사에 형용사가 붙을 경우- 보통 '\n",
      " '「a(n)(+(副))++(名)」의 어순이 된다<BR><FONT COLOR=#FF0000> ·</FONT><I>a</I> fine day '\n",
      " '<BR><FONT COLOR=#FF0000> ·</FONT><I>a</I> very fine day;문어인 many- such- 감탄사인 '\n",
      " 'what- 종종 half- quite- rather의 경우에는- a(n)은 그 단어들 뒤에 온다<BR><FONT '\n",
      " 'COLOR=#FF0000> ·</FONT><I>many a</I> boy <BR><FONT COLOR=#FF0000> '\n",
      " '·</FONT><I>such a</I> thing <BR><FONT COLOR=#FF0000> ·</FONT><I>What a</I> '\n",
      " 'pity! <BR><FONT COLOR=#FF0000> ·</FONT><I>half an</I> hour <BR><FONT '\n",
      " 'COLOR=#FF0000> ·</FONT><I>quite a</I> young lady <BR><FONT COLOR=#FF0000> '\n",
      " '·</FONT><I>rather an</I> idle boy;as- so- too 뒤에 형용사가 오는 경우「as[so- '\n",
      " 'too]++a(n)+(名)」의 어순이 된다<BR><FONT COLOR=#FF0000> ·</FONT><I>as</I>[<I>so- '\n",
      " 'too</I>] heavy <U><I>a</U></I> burden<BR>(4) this- that- some 등 한정사(限定詞)나 '\n",
      " 'my- his 등 소유격과 a(n)을 함께 쓸 수는 없다<BR><FONT COLOR=#FF0000> ·</FONT><I>a '\n",
      " 'this</I> girl- <I>this a</I> girl- <I>a my</I> friend- <I>my a</I> friend는 '\n",
      " '잘못;cf. <I>a</I> friend of MINE¹<BR>(5) 「no such [형용사의 비교급]+(名)」의 경우에는 a(n)을 '\n",
      " '넣지 않는다<BR><FONT COLOR=#FF0000> ·</FONT><I>no such a</I> disaster- <I>no '\n",
      " 'greater an</I> honor는 잘못이다.<BR>(6) 호칭일 경우에는 관사가 없다<BR><FONT COLOR=#FF0000> '\n",
      " '·</FONT>Hello- friend!<BR>(7) 보어가 되는 명사가 관직·지위·역할 등을 나타낼 경우에는 관사가 '\n",
      " '없다<BR><FONT COLOR=#FF0000> ·</FONT>She was elected chairperson. 그녀는 의장으로 '\n",
      " '뽑혔다.<BR>OE one의 뜻에서;a는 자음 앞에서 an의 n이 탈락한 것.<BR>① 어떤 하나의  <FONT '\n",
      " 'COLOR=#FF0000>1 a</FONT><BR>② 하나의  <FONT COLOR=#FF0000>1 b</FONT><BR>③ …이라는 '\n",
      " '것- 모든 <FONT COLOR=#FF0000>4</FONT><BR>④ …당- …마다  <FONT '\n",
      " 'COLOR=#FF0000>5</FONT><BR><FONT COLOR=#FF0000>1 a</FONT> [가산명사의 단수형 앞에서］ '\n",
      " '(막연히) <FONT COLOR=#0000FF>어떤 하나［한 사람］의</FONT> (one의 약한 뜻으로- 보통 새기지 '\n",
      " '않음)<BR><FONT COLOR=#FF0000> ·</FONT>There is <I>a</I> book on the desk. 책상 '\n",
      " '위에 책이 (한 권) 있다 <BR><FONT COLOR=#FF0000> ·</FONT>I want <I>a</I> book. 책이 있으면 '\n",
      " '좋겠다 <BR><FONT COLOR=#FF0000> ·</FONT><I>A</I> student came to see me. (한) '\n",
      " \"학생이 나를 만나러 왔다 <BR><FONT COLOR=#FF0000> ·</FONT>It's not a good job- but it's \"\n",
      " '<I>a </I> job. 좋은 일자리는 아니나 그저 그만한 일자리야 <BR><FONT COLOR=#FF0000> ·</FONT>She '\n",
      " 'has <I>a </I>(=such <I>a</I> wonderful［terrible］) voice. 그녀는 목소리가 썩 좋다［형편없다］ '\n",
      " '<BR><FONT COLOR=#FF0000> ·</FONT><I>a</I> poet and novelist 시인이자 소설가 (한 사람) '\n",
      " '(★ <I>a</I> poet and <I>a</I> novelist는 보통 시인과 소설가 (두 사람)의 뜻;단- 한 사람의 양면 '\n",
      " '활동·성질을 강조할 때는 두 군데에 다 관사가 붙음)<BR><FONT COLOR=#FF0000> ·</FONT>He was<I> '\n",
      " 'an</I> actor and <I>a</I> playwright. 그는 배우인 동시에 극작가였다 <BR><FONT '\n",
      " 'COLOR=#FF0000> ·</FONT><I>a</I> watch and chain 줄 달린 시계 (and는 with의 뜻으로서 한 '\n",
      " '개의 것으로 간주함)<BR><FONT COLOR=#FF0000> b</FONT> <FONT COLOR=#0000FF>하나의- 한 '\n",
      " '사람의</FONT><BR><FONT COLOR=#FF0000> ·</FONT>Rome was not built in <I>a</I> '\n",
      " 'day. (속담) 로마는 하루에 이룩된 것은 아니다 <BR><FONT COLOR=#FF0000> ·</FONT>in <I>a</I> '\n",
      " 'word 한마디로 <BR><FONT COLOR=#FF0000> ·</FONT>to <I>a</I> man 한 사람도 빠짐없이 '\n",
      " '<BR><FONT COLOR=#FF0000> ·</FONT>→  to <I>an</I> HOUR <BR><FONT '\n",
      " 'COLOR=#FF0000> ·</FONT>I never said <I>a</I> word. 아무 말도 안했다 <BR><FONT '\n",
      " 'COLOR=#FF0000> ·</FONT><I>a</I> day or two 하루 이틀 <BR><FONT COLOR=#FF0000> '\n",
      " '·</FONT>I said <I>a</I> magazine. 책 한 권이라 했지- 잡지 한 권이라고는 하지 않았다.<BR><FONT '\n",
      " 'COLOR=#FF0000> c</FONT> ［보통 불가산명사로 쓰이는 명사에 붙이어］ …<FONT COLOR=#0000FF>의 한 '\n",
      " '조각</FONT>;…의 한 예;…의 1인분- 1회분;…의 한 종류;…의 결과(만들어지는 것)<BR><FONT COLOR=#FF0000> '\n",
      " '·</FONT><I>a</I> stone 돌멩이 (stone [U] 석재) <BR><FONT COLOR=#FF0000> '\n",
      " '·</FONT><I>a</I> fire 모닥불- 화재- 난로불 (등) (fire [U] 불) <BR><FONT COLOR=#FF0000> '\n",
      " '·</FONT><I>a</I> murder 살인 사건 <BR><FONT COLOR=#FF0000> ·</FONT><I>a</I> '\n",
      " 'kindness (하나의) 친절한 행위 <BR><FONT COLOR=#FF0000> ·</FONT><I>a</I> beer［coffee- '\n",
      " 'whiskey and soda］ 맥주［커피- 위스키 소다］ 한 잔 <BR><FONT COLOR=#FF0000> '\n",
      " '·</FONT><I>an</I> aspirin 아스피린 한 알 <BR><FONT COLOR=#FF0000> ·</FONT>have '\n",
      " '<I>a</I> sleep 한잠 자다 <BR><FONT COLOR=#FF0000> ·</FONT><I>an</I> invention '\n",
      " '발명품 (invention [U] 발명) <BR><FONT COLOR=#FF0000> ·</FONT><I>a</I> building '\n",
      " '건축물 (building [U] 건축)<BR><FONT COLOR=#FF0000>2  a</FONT> <FONT '\n",
      " 'COLOR=#0000FF>어느</FONT>(정도의) (some- a certain의 약한 뜻)<BR><FONT COLOR=#FF0000> '\n",
      " '·</FONT>in <I>a</I> sense 어떤 의미로는 <BR><FONT COLOR=#FF0000> ·</FONT>I have '\n",
      " '<I>a</I> knowledge of astronomy. 천문학에 관해서 조금은 알고 있다(전문가는 아니다)<BR><FONT '\n",
      " 'COLOR=#FF0000> b </FONT>(文語) ［고유명사에 붙이어］ …<FONT COLOR=#0000FF>이라는 '\n",
      " '사람</FONT>(→  certain 4)<BR><FONT COLOR=#FF0000> ·</FONT><I>a</I> Mr. Smith '\n",
      " '스미스라는 분<BR><FONT COLOR=#FF0000> c </FONT>［고유명사에 붙이어］ …집안［가문］의 사람<BR><FONT '\n",
      " 'COLOR=#FF0000> ·</FONT><I>a</I> Stuart 스튜어트 가문 사람<BR><FONT COLOR=#FF0000> '\n",
      " 'd</FONT> ［고유명사에 붙이어］ …의 작품 ［제작］<BR><FONT COLOR=#FF0000> ·</FONT><I>a</I> '\n",
      " 'Picasso 피카소의 작품 <BR><FONT COLOR=#FF0000> ·</FONT><I>a</I> Ford '\n",
      " '포드(회사제)차<BR><FONT COLOR=#FF0000>3 a</FONT> ［고유명사에 붙이어］ …<FONT '\n",
      " 'COLOR=#0000FF>와 같은 사람</FONT>［<FONT COLOR=#0000FF>것</FONT>］<BR><FONT '\n",
      " 'COLOR=#FF0000> ·</FONT><I>a</I> Newton 뉴턴과 같은 사람［대과학자］<BR><FONT '\n",
      " 'COLOR=#FF0000> b</FONT> ［의 형태로］ …와 같은(cf. OF A 5 b)<BR><FONT COLOR=#FF0000> '\n",
      " '·</FONT>an angel <I>of a</I> boy (천사와 같은) 아주 귀여운 소년<BR><FONT COLOR=#FF0000> '\n",
      " 'c</FONT> (文語) ［고유명사에 붙이어;사람 등의 새로운 면이나 그때까지 알려지지 않았던 면을 나타내어］<BR><FONT '\n",
      " 'COLOR=#FF0000> ·</FONT><I>a</I> vengeful Peter Baron 복수에 불탄 피터 배런<BR><FONT '\n",
      " 'COLOR=#FF0000>4 </FONT>［총칭적］ …<FONT COLOR=#0000FF>이라는 것</FONT>- 모든 … (any의 '\n",
      " '약한 뜻- 보통 새기지 않음)<BR><FONT COLOR=#FF0000> ·</FONT><I>A</I> dog is faithful. '\n",
      " '개는 충직하다 (복수구문에서도 some- any를 쓰지 않음(cf. THE B 1 a) Dogs are '\n",
      " 'faithful.)<BR><FONT COLOR=#FF0000>5 </FONT>［단위를 나타내는 낱말에 붙이어］ …<FONT '\n",
      " 'COLOR=#0000FF>당</FONT>- …마다- …에(per) (전치사의 구실을 하며- 새기지 않을 때도 있음;cf. THE B '\n",
      " '5)<BR><FONT COLOR=#FF0000> ·</FONT>once <I>a</I> day 하루에 한 번 <BR><FONT '\n",
      " 'COLOR=#FF0000> ·</FONT>5 dollars <I>a</I> yard 1야드에 5달러<BR><FONT '\n",
      " 'COLOR=#FF0000>6 </FONT>(稀) 동일한- 같은 (보통 of a 의 형태로 씀)<BR><FONT COLOR=#FF0000> '\n",
      " '·</FONT>They are all <I>of a</I> mind［<I>a</I> size］. 모두 한 마음［같은 크기］이다 '\n",
      " '<BR><FONT COLOR=#FF0000> ·</FONT>be<I> of an</I> age 〈두 사람 이상이〉 동갑이다 '\n",
      " '<BR><FONT COLOR=#FF0000> ·</FONT>birds <I>of a</I> feather 깃털이 같은 새들;같은 무리의 '\n",
      " '사람들<BR><FONT COLOR=#FF0000>7 </FONT>［수량을 나타내는 단어에 붙이어 관용법적으로］ → few '\n",
      " '<I>a</I>. 2- <I>pron</I>. 2- little <I>a</I>. B 2- <I>ad</I>. 2- many '\n",
      " '<I>a</I>. 2- <I>a</I> good［great］ MANY<BR><BR><BR><I> [L=from] <I>prep.</I> '\n",
      " '(공간적 ˙ 시간적으로) …으로부터;(공간적으로) …에서 떨어져서- 에서 나뉘어서;(시간적으로) …이래- …후<BR><FONT '\n",
      " 'COLOR=#FF0000> ·</FONT><I>a</I> prior 선험적(先驗的)으로<BR><BR><BR>[商] 단가(單價) '\n",
      " '…으로(at)<BR><BR><BR><I>[F=to- at- in- after] <I>prep. </I>…에서- …으로- '\n",
      " '…의<BR><FONT COLOR=#FF0000> ·</FONT> LA MODE<BR><BR><BR><B><FONT '\n",
      " 'COLOR=#0000FF>A</B></FONT> <FONT COLOR=#FF0000>☞</FONT> '\n",
      " 'a.<BR><BR><BR><B><FONT COLOR=#0000FF>A</B></FONT> <FONT '\n",
      " 'COLOR=#FF0000>☞</FONT> aa')\n"
     ]
    }
   ],
   "source": [
    "pprint.pprint(data.loc[0][2])"
   ]
  }
 ],
 "metadata": {
  "kernelspec": {
   "display_name": "Python 3 (ipykernel)",
   "language": "python",
   "name": "python3"
  },
  "language_info": {
   "codemirror_mode": {
    "name": "ipython",
    "version": 3
   },
   "file_extension": ".py",
   "mimetype": "text/x-python",
   "name": "python",
   "nbconvert_exporter": "python",
   "pygments_lexer": "ipython3",
   "version": "3.10.2"
  }
 },
 "nbformat": 4,
 "nbformat_minor": 5
}
