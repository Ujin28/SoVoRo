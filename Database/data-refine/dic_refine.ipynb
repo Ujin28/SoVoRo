{
 "cells": [
  {
   "cell_type": "code",
   "execution_count": 2,
   "id": "2989913b",
   "metadata": {},
   "outputs": [],
   "source": [
    "import pandas as pd\n",
    "import numpy as np\n",
    "import csv\n",
    "import pprint"
   ]
  },
  {
   "cell_type": "code",
   "execution_count": 3,
   "id": "d843a99e",
   "metadata": {},
   "outputs": [],
   "source": [
    "data=pd.read_csv('dic-refine.csv')\n",
    "data.drop(['Unnamed: 0'], axis = 1, inplace = True)"
   ]
  },
  {
   "cell_type": "code",
   "execution_count": 4,
   "id": "c12e9c1f",
   "metadata": {},
   "outputs": [
    {
     "name": "stdout",
     "output_type": "stream",
     "text": [
      "      WordId EnglishWord                                         KoreanWord\n",
      "0          1           a  ) <FONT COLOR=#FF0000><BR>1</FONT> 에이 (영어 자모의 ...\n",
      "1          2        able  :blest</FONT>)<FONT COLOR=#FF0000><BR>1 </FONT...\n",
      "2          3       about  : <I>prep.- ad.- a.- vt</I>.<BR>기본적으로는 위치- 즉 「...\n",
      "3          4       above  : <I>prep.-</I> <I>ad.- a.- n</I>.<BR>「위쪽에[으로]...\n",
      "4          5      absent  : [L 「어떤 일에서 떨어져 서」의 뜻에서] <I>a.</I><FONT COLOR...\n",
      "...      ...         ...                                                ...\n",
      "2044    2045        your  : <I>pron.</I> <FONT COLOR=#FF0000><BR>1 </FON...\n",
      "2045    2046       yours  : <I>pron.</I><FONT COLOR=#FF0000><BR>1 </FONT...\n",
      "2046    2047    yourself  :)<FONT COLOR=#FF0000><BR>1 </FONT>[강조 용법] <FO...\n",
      "2047    2048  yourselves                        : <I>pron.</I> YOURSELF의 복수\n",
      "2048    2049       youth  :) [U] <FONT COLOR=#FF0000><BR>1  a</FONT> <FO...\n",
      "\n",
      "[2049 rows x 3 columns]\n"
     ]
    }
   ],
   "source": [
    "pprint.pprint(data)"
   ]
  },
  {
   "cell_type": "code",
   "execution_count": 7,
   "id": "f933754b",
   "metadata": {},
   "outputs": [
    {
     "name": "stdout",
     "output_type": "stream",
     "text": [
      "(': <I>n.</I><FONT COLOR=#FF0000><BR>1 </FONT><FONT '\n",
      " 'COLOR=#0000FF>예술가</FONT>;미술가-  (특히) 화가<FONT COLOR=#FF0000><BR>2 </FONT>(어느 '\n",
      " '방면의) 명수- 명인 (<I>at- in</I>)<FONT COLOR=#FF0000><BR>3</FONT> '\n",
      " '=ARTISTE<BR><FONT COLOR=#FF0000> ☞</FONT> artrtistry <I>n.</I>')\n"
     ]
    }
   ],
   "source": [
    "pprint.pprint(data.loc[100][2])"
   ]
  }
 ],
 "metadata": {
  "kernelspec": {
   "display_name": "Python 3 (ipykernel)",
   "language": "python",
   "name": "python3"
  },
  "language_info": {
   "codemirror_mode": {
    "name": "ipython",
    "version": 3
   },
   "file_extension": ".py",
   "mimetype": "text/x-python",
   "name": "python",
   "nbconvert_exporter": "python",
   "pygments_lexer": "ipython3",
   "version": "3.10.2"
  }
 },
 "nbformat": 4,
 "nbformat_minor": 5
}
